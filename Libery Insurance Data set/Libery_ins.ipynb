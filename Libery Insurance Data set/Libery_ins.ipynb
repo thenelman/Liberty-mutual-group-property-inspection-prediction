{
 "cells": [
  {
   "cell_type": "code",
   "execution_count": 1,
   "metadata": {
    "collapsed": true
   },
   "outputs": [],
   "source": [
    "import pandas as pd\n",
    "import numpy as np"
   ]
  },
  {
   "cell_type": "code",
   "execution_count": 2,
   "metadata": {
    "collapsed": true
   },
   "outputs": [],
   "source": [
    "train=pd.read_csv('train.csv')"
   ]
  },
  {
   "cell_type": "code",
   "execution_count": 3,
   "metadata": {},
   "outputs": [
    {
     "name": "stdout",
     "output_type": "stream",
     "text": [
      "   Id  Hazard  T1_V1  T1_V2  T1_V3 T1_V4 T1_V5 T1_V6 T1_V7 T1_V8   ...    \\\n",
      "0   1       1     15      3      2     N     B     N     B     B   ...     \n",
      "1   2       4     16     14      5     H     B     N     B     B   ...     \n",
      "2   3       1     10     10      5     N     K     N     B     B   ...     \n",
      "3   4       1     18     18      5     N     K     N     B     B   ...     \n",
      "4   5       1     13     19      5     N     H     N     B     B   ...     \n",
      "\n",
      "  T2_V6  T2_V7 T2_V8 T2_V9  T2_V10  T2_V11 T2_V12 T2_V13 T2_V14  T2_V15  \n",
      "0     2     37     1    11       6       Y      N      E      2       2  \n",
      "1     2     22     1    18       5       Y      Y      E      2       1  \n",
      "2     6     37     2    14       6       Y      Y      E      6       1  \n",
      "3     2     25     1     1       6       Y      N      C      2       6  \n",
      "4     1     22     1     2       7       N      N      E      1       1  \n",
      "\n",
      "[5 rows x 34 columns]\n"
     ]
    }
   ],
   "source": [
    "print(train.head())"
   ]
  },
  {
   "cell_type": "code",
   "execution_count": 4,
   "metadata": {},
   "outputs": [
    {
     "name": "stdout",
     "output_type": "stream",
     "text": [
      "[15 16 10 18 13 14  8  5  4  3 11  9  7 12  6 19  1  2 17]\n"
     ]
    }
   ],
   "source": [
    "print(train['T1_V1'].unique())"
   ]
  },
  {
   "cell_type": "code",
   "execution_count": 5,
   "metadata": {},
   "outputs": [
    {
     "data": {
      "text/plain": [
       "Index(['Id', 'Hazard', 'T1_V1', 'T1_V2', 'T1_V3', 'T1_V4', 'T1_V5', 'T1_V6',\n",
       "       'T1_V7', 'T1_V8', 'T1_V9', 'T1_V10', 'T1_V11', 'T1_V12', 'T1_V13',\n",
       "       'T1_V14', 'T1_V15', 'T1_V16', 'T1_V17', 'T2_V1', 'T2_V2', 'T2_V3',\n",
       "       'T2_V4', 'T2_V5', 'T2_V6', 'T2_V7', 'T2_V8', 'T2_V9', 'T2_V10',\n",
       "       'T2_V11', 'T2_V12', 'T2_V13', 'T2_V14', 'T2_V15'],\n",
       "      dtype='object')"
      ]
     },
     "execution_count": 5,
     "metadata": {},
     "output_type": "execute_result"
    }
   ],
   "source": [
    "train.columns"
   ]
  },
  {
   "cell_type": "code",
   "execution_count": 6,
   "metadata": {
    "scrolled": false
   },
   "outputs": [
    {
     "name": "stdout",
     "output_type": "stream",
     "text": [
      "<class 'pandas.core.frame.DataFrame'>\n",
      "RangeIndex: 50999 entries, 0 to 50998\n",
      "Data columns (total 34 columns):\n",
      "Id        50999 non-null int64\n",
      "Hazard    50999 non-null int64\n",
      "T1_V1     50999 non-null int64\n",
      "T1_V2     50999 non-null int64\n",
      "T1_V3     50999 non-null int64\n",
      "T1_V4     50999 non-null object\n",
      "T1_V5     50999 non-null object\n",
      "T1_V6     50999 non-null object\n",
      "T1_V7     50999 non-null object\n",
      "T1_V8     50999 non-null object\n",
      "T1_V9     50999 non-null object\n",
      "T1_V10    50999 non-null int64\n",
      "T1_V11    50999 non-null object\n",
      "T1_V12    50999 non-null object\n",
      "T1_V13    50999 non-null int64\n",
      "T1_V14    50999 non-null int64\n",
      "T1_V15    50999 non-null object\n",
      "T1_V16    50999 non-null object\n",
      "T1_V17    50999 non-null object\n",
      "T2_V1     50999 non-null int64\n",
      "T2_V2     50999 non-null int64\n",
      "T2_V3     50999 non-null object\n",
      "T2_V4     50999 non-null int64\n",
      "T2_V5     50999 non-null object\n",
      "T2_V6     50999 non-null int64\n",
      "T2_V7     50999 non-null int64\n",
      "T2_V8     50999 non-null int64\n",
      "T2_V9     50999 non-null int64\n",
      "T2_V10    50999 non-null int64\n",
      "T2_V11    50999 non-null object\n",
      "T2_V12    50999 non-null object\n",
      "T2_V13    50999 non-null object\n",
      "T2_V14    50999 non-null int64\n",
      "T2_V15    50999 non-null int64\n",
      "dtypes: int64(18), object(16)\n",
      "memory usage: 13.2+ MB\n"
     ]
    }
   ],
   "source": [
    "train.info()"
   ]
  },
  {
   "cell_type": "code",
   "execution_count": 7,
   "metadata": {
    "scrolled": true
   },
   "outputs": [
    {
     "name": "stdout",
     "output_type": "stream",
     "text": [
      "T1_V4 ['N' 'H' 'E' 'W' 'B' 'C' 'S' 'G']\n",
      "T1_V5 ['B' 'K' 'H' 'C' 'I' 'A' 'D' 'J' 'E' 'L']\n",
      "T1_V6 ['N' 'Y']\n",
      "T1_V7 ['B' 'D' 'A' 'C']\n",
      "T1_V8 ['B' 'D' 'A' 'C']\n",
      "T1_V9 ['D' 'C' 'E' 'F' 'B' 'G']\n",
      "T1_V11 ['B' 'H' 'I' 'M' 'L' 'J' 'E' 'A' 'F' 'N' 'D' 'K']\n",
      "T1_V12 ['B' 'C' 'D' 'A']\n",
      "T1_V15 ['A' 'D' 'C' 'H' 'N' 'S' 'W' 'F']\n",
      "T1_V16 ['B' 'R' 'J' 'K' 'D' 'C' 'N' 'E' 'I' 'F' 'M' 'H' 'A' 'Q' 'G' 'L' 'P' 'O']\n",
      "T1_V17 ['N' 'Y']\n",
      "T2_V3 ['N' 'Y']\n",
      "T2_V5 ['B' 'C' 'A' 'D' 'E' 'F']\n",
      "T2_V11 ['Y' 'N']\n",
      "T2_V12 ['N' 'Y']\n",
      "T2_V13 ['E' 'C' 'A' 'D' 'B']\n"
     ]
    }
   ],
   "source": [
    "for col in train.columns:\n",
    "    if train[col].dtype == object:\n",
    "        print(col,train[col].unique())"
   ]
  },
  {
   "cell_type": "code",
   "execution_count": 31,
   "metadata": {},
   "outputs": [
    {
     "name": "stdout",
     "output_type": "stream",
     "text": [
      "T1_V1 [15 16 10 18 13 14  8  5  4  3 11  9  7 12  6 19  1  2 17]\n",
      "T1_V2 [ 3 14 10 18 19 12 17 20  2  4  7 15 23  6 13  5 21 11  1  8  9 16 22 24]\n",
      "T1_V3 [2 5 1 4 3 6 9 7 8]\n",
      "T1_V10 [ 7 12  3  8  2]\n",
      "T1_V13 [15 10 20  5]\n",
      "T1_V14 [1 3 2 4 0]\n",
      "T2_V1 [ 36  78  71  75  65 100  83  20  88  86  23  49  92  41  33  81  72  77\n",
      "  61  38  18  32  98  60  52  45  57   7  67  39  59  85  62  54  66  44\n",
      "  97  46  76  55  35  40  50  93  43  19  82  34  64  30  80  63  47  13\n",
      "  48   8  89  11  31  24  84  99  79  91  26  73   1  29  25  69  21  90\n",
      "  53  74  42  58  14  87  12  27  37  28  94  15  51  17  96  70  22  95\n",
      "  56   9  68  16   4   5   6  10   2   3]\n",
      "T2_V2 [11 10 21 13 14 12  7 15  8  6 16 18  9 17 19 24 25  5 28 29 20 30 22 26 23\n",
      " 31  3 27 32  2 34  4 33 39  1 37 35 36 38]\n",
      "T2_V4 [10 17 13 15 11 14 16  5  4 12  3 19  9 18  7  6  2  8 22 20 21  1]\n",
      "T2_V6 [2 6 1 4 3 5 7]\n",
      "T2_V7 [37 22 25 40 34 31 28]\n",
      "T2_V8 [1 2 3]\n",
      "T2_V9 [11 18 14  1  2  5 20 13  6  7  3  4 19 16 21 12  9 10 17 25 24  8 23 15 22]\n",
      "T2_V10 [6 5 7 3 4 2 1]\n",
      "T2_V14 [2 6 1 3 4 5 7]\n",
      "T2_V15 [ 2  1  6  9 11  5  4  3  7 10 12  8]\n"
     ]
    }
   ],
   "source": [
    "for col in train.columns:\n",
    "    if train[col].dtype == np.int64 and (not(col=='Id' or col=='Hazard')):\n",
    "        print(col,train[col].unique())"
   ]
  },
  {
   "cell_type": "code",
   "execution_count": 9,
   "metadata": {},
   "outputs": [
    {
     "data": {
      "text/plain": [
       "50999"
      ]
     },
     "execution_count": 9,
     "metadata": {},
     "output_type": "execute_result"
    }
   ],
   "source": [
    "len(train.Id.unique())"
   ]
  },
  {
   "cell_type": "code",
   "execution_count": 10,
   "metadata": {
    "collapsed": true
   },
   "outputs": [],
   "source": [
    "test=pd.read_csv('test.csv')"
   ]
  },
  {
   "cell_type": "code",
   "execution_count": 11,
   "metadata": {},
   "outputs": [
    {
     "data": {
      "text/html": [
       "<div>\n",
       "<style scoped>\n",
       "    .dataframe tbody tr th:only-of-type {\n",
       "        vertical-align: middle;\n",
       "    }\n",
       "\n",
       "    .dataframe tbody tr th {\n",
       "        vertical-align: top;\n",
       "    }\n",
       "\n",
       "    .dataframe thead th {\n",
       "        text-align: right;\n",
       "    }\n",
       "</style>\n",
       "<table border=\"1\" class=\"dataframe\">\n",
       "  <thead>\n",
       "    <tr style=\"text-align: right;\">\n",
       "      <th></th>\n",
       "      <th>Id</th>\n",
       "      <th>T1_V1</th>\n",
       "      <th>T1_V2</th>\n",
       "      <th>T1_V3</th>\n",
       "      <th>T1_V4</th>\n",
       "      <th>T1_V5</th>\n",
       "      <th>T1_V6</th>\n",
       "      <th>T1_V7</th>\n",
       "      <th>T1_V8</th>\n",
       "      <th>T1_V9</th>\n",
       "      <th>...</th>\n",
       "      <th>T2_V6</th>\n",
       "      <th>T2_V7</th>\n",
       "      <th>T2_V8</th>\n",
       "      <th>T2_V9</th>\n",
       "      <th>T2_V10</th>\n",
       "      <th>T2_V11</th>\n",
       "      <th>T2_V12</th>\n",
       "      <th>T2_V13</th>\n",
       "      <th>T2_V14</th>\n",
       "      <th>T2_V15</th>\n",
       "    </tr>\n",
       "  </thead>\n",
       "  <tbody>\n",
       "    <tr>\n",
       "      <th>0</th>\n",
       "      <td>6</td>\n",
       "      <td>2</td>\n",
       "      <td>13</td>\n",
       "      <td>4</td>\n",
       "      <td>C</td>\n",
       "      <td>A</td>\n",
       "      <td>Y</td>\n",
       "      <td>B</td>\n",
       "      <td>B</td>\n",
       "      <td>D</td>\n",
       "      <td>...</td>\n",
       "      <td>2</td>\n",
       "      <td>28</td>\n",
       "      <td>1</td>\n",
       "      <td>22</td>\n",
       "      <td>6</td>\n",
       "      <td>Y</td>\n",
       "      <td>N</td>\n",
       "      <td>E</td>\n",
       "      <td>2</td>\n",
       "      <td>7</td>\n",
       "    </tr>\n",
       "    <tr>\n",
       "      <th>1</th>\n",
       "      <td>7</td>\n",
       "      <td>10</td>\n",
       "      <td>10</td>\n",
       "      <td>7</td>\n",
       "      <td>N</td>\n",
       "      <td>C</td>\n",
       "      <td>Y</td>\n",
       "      <td>B</td>\n",
       "      <td>B</td>\n",
       "      <td>D</td>\n",
       "      <td>...</td>\n",
       "      <td>3</td>\n",
       "      <td>28</td>\n",
       "      <td>1</td>\n",
       "      <td>4</td>\n",
       "      <td>3</td>\n",
       "      <td>Y</td>\n",
       "      <td>N</td>\n",
       "      <td>E</td>\n",
       "      <td>5</td>\n",
       "      <td>8</td>\n",
       "    </tr>\n",
       "    <tr>\n",
       "      <th>2</th>\n",
       "      <td>8</td>\n",
       "      <td>9</td>\n",
       "      <td>20</td>\n",
       "      <td>4</td>\n",
       "      <td>N</td>\n",
       "      <td>H</td>\n",
       "      <td>Y</td>\n",
       "      <td>B</td>\n",
       "      <td>B</td>\n",
       "      <td>E</td>\n",
       "      <td>...</td>\n",
       "      <td>2</td>\n",
       "      <td>22</td>\n",
       "      <td>1</td>\n",
       "      <td>1</td>\n",
       "      <td>7</td>\n",
       "      <td>N</td>\n",
       "      <td>N</td>\n",
       "      <td>C</td>\n",
       "      <td>6</td>\n",
       "      <td>1</td>\n",
       "    </tr>\n",
       "    <tr>\n",
       "      <th>3</th>\n",
       "      <td>9</td>\n",
       "      <td>11</td>\n",
       "      <td>18</td>\n",
       "      <td>2</td>\n",
       "      <td>N</td>\n",
       "      <td>H</td>\n",
       "      <td>Y</td>\n",
       "      <td>B</td>\n",
       "      <td>B</td>\n",
       "      <td>D</td>\n",
       "      <td>...</td>\n",
       "      <td>4</td>\n",
       "      <td>40</td>\n",
       "      <td>1</td>\n",
       "      <td>20</td>\n",
       "      <td>6</td>\n",
       "      <td>Y</td>\n",
       "      <td>N</td>\n",
       "      <td>E</td>\n",
       "      <td>5</td>\n",
       "      <td>5</td>\n",
       "    </tr>\n",
       "    <tr>\n",
       "      <th>4</th>\n",
       "      <td>10</td>\n",
       "      <td>4</td>\n",
       "      <td>5</td>\n",
       "      <td>4</td>\n",
       "      <td>H</td>\n",
       "      <td>K</td>\n",
       "      <td>Y</td>\n",
       "      <td>B</td>\n",
       "      <td>B</td>\n",
       "      <td>E</td>\n",
       "      <td>...</td>\n",
       "      <td>2</td>\n",
       "      <td>34</td>\n",
       "      <td>1</td>\n",
       "      <td>11</td>\n",
       "      <td>7</td>\n",
       "      <td>Y</td>\n",
       "      <td>Y</td>\n",
       "      <td>E</td>\n",
       "      <td>2</td>\n",
       "      <td>1</td>\n",
       "    </tr>\n",
       "  </tbody>\n",
       "</table>\n",
       "<p>5 rows × 33 columns</p>\n",
       "</div>"
      ],
      "text/plain": [
       "   Id  T1_V1  T1_V2  T1_V3 T1_V4 T1_V5 T1_V6 T1_V7 T1_V8 T1_V9   ...    T2_V6  \\\n",
       "0   6      2     13      4     C     A     Y     B     B     D   ...        2   \n",
       "1   7     10     10      7     N     C     Y     B     B     D   ...        3   \n",
       "2   8      9     20      4     N     H     Y     B     B     E   ...        2   \n",
       "3   9     11     18      2     N     H     Y     B     B     D   ...        4   \n",
       "4  10      4      5      4     H     K     Y     B     B     E   ...        2   \n",
       "\n",
       "  T2_V7 T2_V8  T2_V9  T2_V10 T2_V11 T2_V12 T2_V13  T2_V14  T2_V15  \n",
       "0    28     1     22       6      Y      N      E       2       7  \n",
       "1    28     1      4       3      Y      N      E       5       8  \n",
       "2    22     1      1       7      N      N      C       6       1  \n",
       "3    40     1     20       6      Y      N      E       5       5  \n",
       "4    34     1     11       7      Y      Y      E       2       1  \n",
       "\n",
       "[5 rows x 33 columns]"
      ]
     },
     "execution_count": 11,
     "metadata": {},
     "output_type": "execute_result"
    }
   ],
   "source": [
    "test.head()"
   ]
  },
  {
   "cell_type": "code",
   "execution_count": 12,
   "metadata": {},
   "outputs": [
    {
     "name": "stdout",
     "output_type": "stream",
     "text": [
      "<class 'pandas.core.frame.DataFrame'>\n",
      "RangeIndex: 51000 entries, 0 to 50999\n",
      "Data columns (total 33 columns):\n",
      "Id        51000 non-null int64\n",
      "T1_V1     51000 non-null int64\n",
      "T1_V2     51000 non-null int64\n",
      "T1_V3     51000 non-null int64\n",
      "T1_V4     51000 non-null object\n",
      "T1_V5     51000 non-null object\n",
      "T1_V6     51000 non-null object\n",
      "T1_V7     51000 non-null object\n",
      "T1_V8     51000 non-null object\n",
      "T1_V9     51000 non-null object\n",
      "T1_V10    51000 non-null int64\n",
      "T1_V11    51000 non-null object\n",
      "T1_V12    51000 non-null object\n",
      "T1_V13    51000 non-null int64\n",
      "T1_V14    51000 non-null int64\n",
      "T1_V15    51000 non-null object\n",
      "T1_V16    51000 non-null object\n",
      "T1_V17    51000 non-null object\n",
      "T2_V1     51000 non-null int64\n",
      "T2_V2     51000 non-null int64\n",
      "T2_V3     51000 non-null object\n",
      "T2_V4     51000 non-null int64\n",
      "T2_V5     51000 non-null object\n",
      "T2_V6     51000 non-null int64\n",
      "T2_V7     51000 non-null int64\n",
      "T2_V8     51000 non-null int64\n",
      "T2_V9     51000 non-null int64\n",
      "T2_V10    51000 non-null int64\n",
      "T2_V11    51000 non-null object\n",
      "T2_V12    51000 non-null object\n",
      "T2_V13    51000 non-null object\n",
      "T2_V14    51000 non-null int64\n",
      "T2_V15    51000 non-null int64\n",
      "dtypes: int64(17), object(16)\n",
      "memory usage: 12.8+ MB\n"
     ]
    }
   ],
   "source": [
    "test.info()"
   ]
  },
  {
   "cell_type": "code",
   "execution_count": 13,
   "metadata": {
    "collapsed": true
   },
   "outputs": [],
   "source": [
    "sample=pd.read_csv('sample_submission.csv')"
   ]
  },
  {
   "cell_type": "code",
   "execution_count": 14,
   "metadata": {},
   "outputs": [
    {
     "data": {
      "text/html": [
       "<div>\n",
       "<style scoped>\n",
       "    .dataframe tbody tr th:only-of-type {\n",
       "        vertical-align: middle;\n",
       "    }\n",
       "\n",
       "    .dataframe tbody tr th {\n",
       "        vertical-align: top;\n",
       "    }\n",
       "\n",
       "    .dataframe thead th {\n",
       "        text-align: right;\n",
       "    }\n",
       "</style>\n",
       "<table border=\"1\" class=\"dataframe\">\n",
       "  <thead>\n",
       "    <tr style=\"text-align: right;\">\n",
       "      <th></th>\n",
       "      <th>Id</th>\n",
       "      <th>Hazard</th>\n",
       "    </tr>\n",
       "  </thead>\n",
       "  <tbody>\n",
       "    <tr>\n",
       "      <th>0</th>\n",
       "      <td>6</td>\n",
       "      <td>0</td>\n",
       "    </tr>\n",
       "    <tr>\n",
       "      <th>1</th>\n",
       "      <td>7</td>\n",
       "      <td>0</td>\n",
       "    </tr>\n",
       "    <tr>\n",
       "      <th>2</th>\n",
       "      <td>8</td>\n",
       "      <td>0</td>\n",
       "    </tr>\n",
       "    <tr>\n",
       "      <th>3</th>\n",
       "      <td>9</td>\n",
       "      <td>0</td>\n",
       "    </tr>\n",
       "    <tr>\n",
       "      <th>4</th>\n",
       "      <td>10</td>\n",
       "      <td>0</td>\n",
       "    </tr>\n",
       "  </tbody>\n",
       "</table>\n",
       "</div>"
      ],
      "text/plain": [
       "   Id  Hazard\n",
       "0   6       0\n",
       "1   7       0\n",
       "2   8       0\n",
       "3   9       0\n",
       "4  10       0"
      ]
     },
     "execution_count": 14,
     "metadata": {},
     "output_type": "execute_result"
    }
   ],
   "source": [
    "sample.head()"
   ]
  },
  {
   "cell_type": "code",
   "execution_count": 15,
   "metadata": {},
   "outputs": [
    {
     "data": {
      "text/plain": [
       "51000"
      ]
     },
     "execution_count": 15,
     "metadata": {},
     "output_type": "execute_result"
    }
   ],
   "source": [
    "test['Id'].count()"
   ]
  },
  {
   "cell_type": "code",
   "execution_count": 16,
   "metadata": {},
   "outputs": [
    {
     "data": {
      "text/plain": [
       "array([     6,      7,      8, ..., 101995, 101996, 101997], dtype=int64)"
      ]
     },
     "execution_count": 16,
     "metadata": {},
     "output_type": "execute_result"
    }
   ],
   "source": [
    "test['Id'].unique()"
   ]
  },
  {
   "cell_type": "code",
   "execution_count": 17,
   "metadata": {},
   "outputs": [
    {
     "data": {
      "text/plain": [
       "array([ 1,  4,  5,  7, 15, 14,  8, 16,  6, 11,  3, 13,  2, 18, 10, 17, 22,\n",
       "        9, 21, 20, 12, 19, 37, 23, 28, 27, 31, 38, 41, 26, 33, 29, 30, 25,\n",
       "       24, 36, 51, 42, 34, 46, 32, 69, 40, 35, 44, 39, 49, 52, 63, 64], dtype=int64)"
      ]
     },
     "execution_count": 17,
     "metadata": {},
     "output_type": "execute_result"
    }
   ],
   "source": [
    "train['Hazard'].unique()"
   ]
  },
  {
   "cell_type": "code",
   "execution_count": 18,
   "metadata": {},
   "outputs": [
    {
     "data": {
      "text/plain": [
       "50999"
      ]
     },
     "execution_count": 18,
     "metadata": {},
     "output_type": "execute_result"
    }
   ],
   "source": [
    "train['Hazard'].count()"
   ]
  },
  {
   "cell_type": "code",
   "execution_count": 19,
   "metadata": {},
   "outputs": [
    {
     "data": {
      "text/html": [
       "<div>\n",
       "<style scoped>\n",
       "    .dataframe tbody tr th:only-of-type {\n",
       "        vertical-align: middle;\n",
       "    }\n",
       "\n",
       "    .dataframe tbody tr th {\n",
       "        vertical-align: top;\n",
       "    }\n",
       "\n",
       "    .dataframe thead th {\n",
       "        text-align: right;\n",
       "    }\n",
       "</style>\n",
       "<table border=\"1\" class=\"dataframe\">\n",
       "  <thead>\n",
       "    <tr style=\"text-align: right;\">\n",
       "      <th></th>\n",
       "      <th>Id</th>\n",
       "      <th>Hazard</th>\n",
       "      <th>T1_V1</th>\n",
       "      <th>T1_V2</th>\n",
       "      <th>T1_V3</th>\n",
       "      <th>T1_V4</th>\n",
       "      <th>T1_V5</th>\n",
       "      <th>T1_V6</th>\n",
       "      <th>T1_V7</th>\n",
       "      <th>T1_V8</th>\n",
       "      <th>...</th>\n",
       "      <th>T2_V6</th>\n",
       "      <th>T2_V7</th>\n",
       "      <th>T2_V8</th>\n",
       "      <th>T2_V9</th>\n",
       "      <th>T2_V10</th>\n",
       "      <th>T2_V11</th>\n",
       "      <th>T2_V12</th>\n",
       "      <th>T2_V13</th>\n",
       "      <th>T2_V14</th>\n",
       "      <th>T2_V15</th>\n",
       "    </tr>\n",
       "  </thead>\n",
       "  <tbody>\n",
       "    <tr>\n",
       "      <th>50994</th>\n",
       "      <td>101992</td>\n",
       "      <td>7</td>\n",
       "      <td>12</td>\n",
       "      <td>24</td>\n",
       "      <td>1</td>\n",
       "      <td>N</td>\n",
       "      <td>H</td>\n",
       "      <td>Y</td>\n",
       "      <td>B</td>\n",
       "      <td>B</td>\n",
       "      <td>...</td>\n",
       "      <td>4</td>\n",
       "      <td>25</td>\n",
       "      <td>2</td>\n",
       "      <td>9</td>\n",
       "      <td>7</td>\n",
       "      <td>Y</td>\n",
       "      <td>Y</td>\n",
       "      <td>E</td>\n",
       "      <td>4</td>\n",
       "      <td>1</td>\n",
       "    </tr>\n",
       "    <tr>\n",
       "      <th>50995</th>\n",
       "      <td>101993</td>\n",
       "      <td>4</td>\n",
       "      <td>12</td>\n",
       "      <td>17</td>\n",
       "      <td>4</td>\n",
       "      <td>N</td>\n",
       "      <td>K</td>\n",
       "      <td>N</td>\n",
       "      <td>B</td>\n",
       "      <td>B</td>\n",
       "      <td>...</td>\n",
       "      <td>2</td>\n",
       "      <td>37</td>\n",
       "      <td>1</td>\n",
       "      <td>4</td>\n",
       "      <td>7</td>\n",
       "      <td>N</td>\n",
       "      <td>N</td>\n",
       "      <td>A</td>\n",
       "      <td>5</td>\n",
       "      <td>2</td>\n",
       "    </tr>\n",
       "    <tr>\n",
       "      <th>50996</th>\n",
       "      <td>101994</td>\n",
       "      <td>3</td>\n",
       "      <td>18</td>\n",
       "      <td>7</td>\n",
       "      <td>5</td>\n",
       "      <td>W</td>\n",
       "      <td>B</td>\n",
       "      <td>Y</td>\n",
       "      <td>B</td>\n",
       "      <td>B</td>\n",
       "      <td>...</td>\n",
       "      <td>2</td>\n",
       "      <td>28</td>\n",
       "      <td>1</td>\n",
       "      <td>1</td>\n",
       "      <td>2</td>\n",
       "      <td>N</td>\n",
       "      <td>N</td>\n",
       "      <td>E</td>\n",
       "      <td>1</td>\n",
       "      <td>1</td>\n",
       "    </tr>\n",
       "    <tr>\n",
       "      <th>50997</th>\n",
       "      <td>101998</td>\n",
       "      <td>14</td>\n",
       "      <td>18</td>\n",
       "      <td>17</td>\n",
       "      <td>5</td>\n",
       "      <td>B</td>\n",
       "      <td>A</td>\n",
       "      <td>N</td>\n",
       "      <td>B</td>\n",
       "      <td>D</td>\n",
       "      <td>...</td>\n",
       "      <td>1</td>\n",
       "      <td>40</td>\n",
       "      <td>1</td>\n",
       "      <td>7</td>\n",
       "      <td>4</td>\n",
       "      <td>Y</td>\n",
       "      <td>N</td>\n",
       "      <td>C</td>\n",
       "      <td>2</td>\n",
       "      <td>6</td>\n",
       "    </tr>\n",
       "    <tr>\n",
       "      <th>50998</th>\n",
       "      <td>101999</td>\n",
       "      <td>9</td>\n",
       "      <td>5</td>\n",
       "      <td>15</td>\n",
       "      <td>3</td>\n",
       "      <td>B</td>\n",
       "      <td>I</td>\n",
       "      <td>Y</td>\n",
       "      <td>B</td>\n",
       "      <td>B</td>\n",
       "      <td>...</td>\n",
       "      <td>2</td>\n",
       "      <td>40</td>\n",
       "      <td>1</td>\n",
       "      <td>16</td>\n",
       "      <td>1</td>\n",
       "      <td>Y</td>\n",
       "      <td>N</td>\n",
       "      <td>E</td>\n",
       "      <td>5</td>\n",
       "      <td>4</td>\n",
       "    </tr>\n",
       "  </tbody>\n",
       "</table>\n",
       "<p>5 rows × 34 columns</p>\n",
       "</div>"
      ],
      "text/plain": [
       "           Id  Hazard  T1_V1  T1_V2  T1_V3 T1_V4 T1_V5 T1_V6 T1_V7 T1_V8  \\\n",
       "50994  101992       7     12     24      1     N     H     Y     B     B   \n",
       "50995  101993       4     12     17      4     N     K     N     B     B   \n",
       "50996  101994       3     18      7      5     W     B     Y     B     B   \n",
       "50997  101998      14     18     17      5     B     A     N     B     D   \n",
       "50998  101999       9      5     15      3     B     I     Y     B     B   \n",
       "\n",
       "        ...   T2_V6  T2_V7 T2_V8 T2_V9  T2_V10  T2_V11 T2_V12 T2_V13 T2_V14  \\\n",
       "50994   ...       4     25     2     9       7       Y      Y      E      4   \n",
       "50995   ...       2     37     1     4       7       N      N      A      5   \n",
       "50996   ...       2     28     1     1       2       N      N      E      1   \n",
       "50997   ...       1     40     1     7       4       Y      N      C      2   \n",
       "50998   ...       2     40     1    16       1       Y      N      E      5   \n",
       "\n",
       "       T2_V15  \n",
       "50994       1  \n",
       "50995       2  \n",
       "50996       1  \n",
       "50997       6  \n",
       "50998       4  \n",
       "\n",
       "[5 rows x 34 columns]"
      ]
     },
     "execution_count": 19,
     "metadata": {},
     "output_type": "execute_result"
    }
   ],
   "source": [
    "train.tail()"
   ]
  },
  {
   "cell_type": "code",
   "execution_count": 20,
   "metadata": {
    "collapsed": true
   },
   "outputs": [],
   "source": [
    "train.index=train['Id']"
   ]
  },
  {
   "cell_type": "code",
   "execution_count": 21,
   "metadata": {},
   "outputs": [
    {
     "data": {
      "text/html": [
       "<div>\n",
       "<style scoped>\n",
       "    .dataframe tbody tr th:only-of-type {\n",
       "        vertical-align: middle;\n",
       "    }\n",
       "\n",
       "    .dataframe tbody tr th {\n",
       "        vertical-align: top;\n",
       "    }\n",
       "\n",
       "    .dataframe thead th {\n",
       "        text-align: right;\n",
       "    }\n",
       "</style>\n",
       "<table border=\"1\" class=\"dataframe\">\n",
       "  <thead>\n",
       "    <tr style=\"text-align: right;\">\n",
       "      <th></th>\n",
       "      <th>Id</th>\n",
       "      <th>Hazard</th>\n",
       "      <th>T1_V1</th>\n",
       "      <th>T1_V2</th>\n",
       "      <th>T1_V3</th>\n",
       "      <th>T1_V4</th>\n",
       "      <th>T1_V5</th>\n",
       "      <th>T1_V6</th>\n",
       "      <th>T1_V7</th>\n",
       "      <th>T1_V8</th>\n",
       "      <th>...</th>\n",
       "      <th>T2_V6</th>\n",
       "      <th>T2_V7</th>\n",
       "      <th>T2_V8</th>\n",
       "      <th>T2_V9</th>\n",
       "      <th>T2_V10</th>\n",
       "      <th>T2_V11</th>\n",
       "      <th>T2_V12</th>\n",
       "      <th>T2_V13</th>\n",
       "      <th>T2_V14</th>\n",
       "      <th>T2_V15</th>\n",
       "    </tr>\n",
       "    <tr>\n",
       "      <th>Id</th>\n",
       "      <th></th>\n",
       "      <th></th>\n",
       "      <th></th>\n",
       "      <th></th>\n",
       "      <th></th>\n",
       "      <th></th>\n",
       "      <th></th>\n",
       "      <th></th>\n",
       "      <th></th>\n",
       "      <th></th>\n",
       "      <th></th>\n",
       "      <th></th>\n",
       "      <th></th>\n",
       "      <th></th>\n",
       "      <th></th>\n",
       "      <th></th>\n",
       "      <th></th>\n",
       "      <th></th>\n",
       "      <th></th>\n",
       "      <th></th>\n",
       "      <th></th>\n",
       "    </tr>\n",
       "  </thead>\n",
       "  <tbody>\n",
       "    <tr>\n",
       "      <th>1</th>\n",
       "      <td>1</td>\n",
       "      <td>1</td>\n",
       "      <td>15</td>\n",
       "      <td>3</td>\n",
       "      <td>2</td>\n",
       "      <td>N</td>\n",
       "      <td>B</td>\n",
       "      <td>N</td>\n",
       "      <td>B</td>\n",
       "      <td>B</td>\n",
       "      <td>...</td>\n",
       "      <td>2</td>\n",
       "      <td>37</td>\n",
       "      <td>1</td>\n",
       "      <td>11</td>\n",
       "      <td>6</td>\n",
       "      <td>Y</td>\n",
       "      <td>N</td>\n",
       "      <td>E</td>\n",
       "      <td>2</td>\n",
       "      <td>2</td>\n",
       "    </tr>\n",
       "    <tr>\n",
       "      <th>2</th>\n",
       "      <td>2</td>\n",
       "      <td>4</td>\n",
       "      <td>16</td>\n",
       "      <td>14</td>\n",
       "      <td>5</td>\n",
       "      <td>H</td>\n",
       "      <td>B</td>\n",
       "      <td>N</td>\n",
       "      <td>B</td>\n",
       "      <td>B</td>\n",
       "      <td>...</td>\n",
       "      <td>2</td>\n",
       "      <td>22</td>\n",
       "      <td>1</td>\n",
       "      <td>18</td>\n",
       "      <td>5</td>\n",
       "      <td>Y</td>\n",
       "      <td>Y</td>\n",
       "      <td>E</td>\n",
       "      <td>2</td>\n",
       "      <td>1</td>\n",
       "    </tr>\n",
       "    <tr>\n",
       "      <th>3</th>\n",
       "      <td>3</td>\n",
       "      <td>1</td>\n",
       "      <td>10</td>\n",
       "      <td>10</td>\n",
       "      <td>5</td>\n",
       "      <td>N</td>\n",
       "      <td>K</td>\n",
       "      <td>N</td>\n",
       "      <td>B</td>\n",
       "      <td>B</td>\n",
       "      <td>...</td>\n",
       "      <td>6</td>\n",
       "      <td>37</td>\n",
       "      <td>2</td>\n",
       "      <td>14</td>\n",
       "      <td>6</td>\n",
       "      <td>Y</td>\n",
       "      <td>Y</td>\n",
       "      <td>E</td>\n",
       "      <td>6</td>\n",
       "      <td>1</td>\n",
       "    </tr>\n",
       "    <tr>\n",
       "      <th>4</th>\n",
       "      <td>4</td>\n",
       "      <td>1</td>\n",
       "      <td>18</td>\n",
       "      <td>18</td>\n",
       "      <td>5</td>\n",
       "      <td>N</td>\n",
       "      <td>K</td>\n",
       "      <td>N</td>\n",
       "      <td>B</td>\n",
       "      <td>B</td>\n",
       "      <td>...</td>\n",
       "      <td>2</td>\n",
       "      <td>25</td>\n",
       "      <td>1</td>\n",
       "      <td>1</td>\n",
       "      <td>6</td>\n",
       "      <td>Y</td>\n",
       "      <td>N</td>\n",
       "      <td>C</td>\n",
       "      <td>2</td>\n",
       "      <td>6</td>\n",
       "    </tr>\n",
       "    <tr>\n",
       "      <th>5</th>\n",
       "      <td>5</td>\n",
       "      <td>1</td>\n",
       "      <td>13</td>\n",
       "      <td>19</td>\n",
       "      <td>5</td>\n",
       "      <td>N</td>\n",
       "      <td>H</td>\n",
       "      <td>N</td>\n",
       "      <td>B</td>\n",
       "      <td>B</td>\n",
       "      <td>...</td>\n",
       "      <td>1</td>\n",
       "      <td>22</td>\n",
       "      <td>1</td>\n",
       "      <td>2</td>\n",
       "      <td>7</td>\n",
       "      <td>N</td>\n",
       "      <td>N</td>\n",
       "      <td>E</td>\n",
       "      <td>1</td>\n",
       "      <td>1</td>\n",
       "    </tr>\n",
       "  </tbody>\n",
       "</table>\n",
       "<p>5 rows × 34 columns</p>\n",
       "</div>"
      ],
      "text/plain": [
       "    Id  Hazard  T1_V1  T1_V2  T1_V3 T1_V4 T1_V5 T1_V6 T1_V7 T1_V8   ...    \\\n",
       "Id                                                                  ...     \n",
       "1    1       1     15      3      2     N     B     N     B     B   ...     \n",
       "2    2       4     16     14      5     H     B     N     B     B   ...     \n",
       "3    3       1     10     10      5     N     K     N     B     B   ...     \n",
       "4    4       1     18     18      5     N     K     N     B     B   ...     \n",
       "5    5       1     13     19      5     N     H     N     B     B   ...     \n",
       "\n",
       "   T2_V6  T2_V7 T2_V8 T2_V9  T2_V10  T2_V11 T2_V12 T2_V13 T2_V14  T2_V15  \n",
       "Id                                                                        \n",
       "1      2     37     1    11       6       Y      N      E      2       2  \n",
       "2      2     22     1    18       5       Y      Y      E      2       1  \n",
       "3      6     37     2    14       6       Y      Y      E      6       1  \n",
       "4      2     25     1     1       6       Y      N      C      2       6  \n",
       "5      1     22     1     2       7       N      N      E      1       1  \n",
       "\n",
       "[5 rows x 34 columns]"
      ]
     },
     "execution_count": 21,
     "metadata": {},
     "output_type": "execute_result"
    }
   ],
   "source": [
    "train.head()"
   ]
  },
  {
   "cell_type": "code",
   "execution_count": 22,
   "metadata": {},
   "outputs": [
    {
     "data": {
      "text/plain": [
       "Int64Index([     1,      2,      3,      4,      5,     12,     15,     19,\n",
       "                21,     22,\n",
       "            ...\n",
       "            101984, 101986, 101987, 101988, 101991, 101992, 101993, 101994,\n",
       "            101998, 101999],\n",
       "           dtype='int64', name='Id', length=50999)"
      ]
     },
     "execution_count": 22,
     "metadata": {},
     "output_type": "execute_result"
    }
   ],
   "source": [
    "train.index"
   ]
  },
  {
   "cell_type": "code",
   "execution_count": 23,
   "metadata": {
    "collapsed": true
   },
   "outputs": [],
   "source": [
    "Y=train[['Id','Hazard']]"
   ]
  },
  {
   "cell_type": "code",
   "execution_count": 24,
   "metadata": {},
   "outputs": [
    {
     "data": {
      "text/html": [
       "<div>\n",
       "<style scoped>\n",
       "    .dataframe tbody tr th:only-of-type {\n",
       "        vertical-align: middle;\n",
       "    }\n",
       "\n",
       "    .dataframe tbody tr th {\n",
       "        vertical-align: top;\n",
       "    }\n",
       "\n",
       "    .dataframe thead th {\n",
       "        text-align: right;\n",
       "    }\n",
       "</style>\n",
       "<table border=\"1\" class=\"dataframe\">\n",
       "  <thead>\n",
       "    <tr style=\"text-align: right;\">\n",
       "      <th></th>\n",
       "      <th>Id</th>\n",
       "      <th>Hazard</th>\n",
       "    </tr>\n",
       "    <tr>\n",
       "      <th>Id</th>\n",
       "      <th></th>\n",
       "      <th></th>\n",
       "    </tr>\n",
       "  </thead>\n",
       "  <tbody>\n",
       "    <tr>\n",
       "      <th>1</th>\n",
       "      <td>1</td>\n",
       "      <td>1</td>\n",
       "    </tr>\n",
       "    <tr>\n",
       "      <th>2</th>\n",
       "      <td>2</td>\n",
       "      <td>4</td>\n",
       "    </tr>\n",
       "    <tr>\n",
       "      <th>3</th>\n",
       "      <td>3</td>\n",
       "      <td>1</td>\n",
       "    </tr>\n",
       "    <tr>\n",
       "      <th>4</th>\n",
       "      <td>4</td>\n",
       "      <td>1</td>\n",
       "    </tr>\n",
       "    <tr>\n",
       "      <th>5</th>\n",
       "      <td>5</td>\n",
       "      <td>1</td>\n",
       "    </tr>\n",
       "  </tbody>\n",
       "</table>\n",
       "</div>"
      ],
      "text/plain": [
       "    Id  Hazard\n",
       "Id            \n",
       "1    1       1\n",
       "2    2       4\n",
       "3    3       1\n",
       "4    4       1\n",
       "5    5       1"
      ]
     },
     "execution_count": 24,
     "metadata": {},
     "output_type": "execute_result"
    }
   ],
   "source": [
    "Y.head()"
   ]
  },
  {
   "cell_type": "code",
   "execution_count": 25,
   "metadata": {
    "collapsed": true
   },
   "outputs": [],
   "source": [
    "X=train.loc[:,'T1_V1':]"
   ]
  },
  {
   "cell_type": "code",
   "execution_count": 26,
   "metadata": {},
   "outputs": [
    {
     "data": {
      "text/html": [
       "<div>\n",
       "<style scoped>\n",
       "    .dataframe tbody tr th:only-of-type {\n",
       "        vertical-align: middle;\n",
       "    }\n",
       "\n",
       "    .dataframe tbody tr th {\n",
       "        vertical-align: top;\n",
       "    }\n",
       "\n",
       "    .dataframe thead th {\n",
       "        text-align: right;\n",
       "    }\n",
       "</style>\n",
       "<table border=\"1\" class=\"dataframe\">\n",
       "  <thead>\n",
       "    <tr style=\"text-align: right;\">\n",
       "      <th></th>\n",
       "      <th>T1_V1</th>\n",
       "      <th>T1_V2</th>\n",
       "      <th>T1_V3</th>\n",
       "      <th>T1_V4</th>\n",
       "      <th>T1_V5</th>\n",
       "      <th>T1_V6</th>\n",
       "      <th>T1_V7</th>\n",
       "      <th>T1_V8</th>\n",
       "      <th>T1_V9</th>\n",
       "      <th>T1_V10</th>\n",
       "      <th>...</th>\n",
       "      <th>T2_V6</th>\n",
       "      <th>T2_V7</th>\n",
       "      <th>T2_V8</th>\n",
       "      <th>T2_V9</th>\n",
       "      <th>T2_V10</th>\n",
       "      <th>T2_V11</th>\n",
       "      <th>T2_V12</th>\n",
       "      <th>T2_V13</th>\n",
       "      <th>T2_V14</th>\n",
       "      <th>T2_V15</th>\n",
       "    </tr>\n",
       "    <tr>\n",
       "      <th>Id</th>\n",
       "      <th></th>\n",
       "      <th></th>\n",
       "      <th></th>\n",
       "      <th></th>\n",
       "      <th></th>\n",
       "      <th></th>\n",
       "      <th></th>\n",
       "      <th></th>\n",
       "      <th></th>\n",
       "      <th></th>\n",
       "      <th></th>\n",
       "      <th></th>\n",
       "      <th></th>\n",
       "      <th></th>\n",
       "      <th></th>\n",
       "      <th></th>\n",
       "      <th></th>\n",
       "      <th></th>\n",
       "      <th></th>\n",
       "      <th></th>\n",
       "      <th></th>\n",
       "    </tr>\n",
       "  </thead>\n",
       "  <tbody>\n",
       "    <tr>\n",
       "      <th>1</th>\n",
       "      <td>15</td>\n",
       "      <td>3</td>\n",
       "      <td>2</td>\n",
       "      <td>N</td>\n",
       "      <td>B</td>\n",
       "      <td>N</td>\n",
       "      <td>B</td>\n",
       "      <td>B</td>\n",
       "      <td>D</td>\n",
       "      <td>7</td>\n",
       "      <td>...</td>\n",
       "      <td>2</td>\n",
       "      <td>37</td>\n",
       "      <td>1</td>\n",
       "      <td>11</td>\n",
       "      <td>6</td>\n",
       "      <td>Y</td>\n",
       "      <td>N</td>\n",
       "      <td>E</td>\n",
       "      <td>2</td>\n",
       "      <td>2</td>\n",
       "    </tr>\n",
       "    <tr>\n",
       "      <th>2</th>\n",
       "      <td>16</td>\n",
       "      <td>14</td>\n",
       "      <td>5</td>\n",
       "      <td>H</td>\n",
       "      <td>B</td>\n",
       "      <td>N</td>\n",
       "      <td>B</td>\n",
       "      <td>B</td>\n",
       "      <td>C</td>\n",
       "      <td>12</td>\n",
       "      <td>...</td>\n",
       "      <td>2</td>\n",
       "      <td>22</td>\n",
       "      <td>1</td>\n",
       "      <td>18</td>\n",
       "      <td>5</td>\n",
       "      <td>Y</td>\n",
       "      <td>Y</td>\n",
       "      <td>E</td>\n",
       "      <td>2</td>\n",
       "      <td>1</td>\n",
       "    </tr>\n",
       "    <tr>\n",
       "      <th>3</th>\n",
       "      <td>10</td>\n",
       "      <td>10</td>\n",
       "      <td>5</td>\n",
       "      <td>N</td>\n",
       "      <td>K</td>\n",
       "      <td>N</td>\n",
       "      <td>B</td>\n",
       "      <td>B</td>\n",
       "      <td>E</td>\n",
       "      <td>12</td>\n",
       "      <td>...</td>\n",
       "      <td>6</td>\n",
       "      <td>37</td>\n",
       "      <td>2</td>\n",
       "      <td>14</td>\n",
       "      <td>6</td>\n",
       "      <td>Y</td>\n",
       "      <td>Y</td>\n",
       "      <td>E</td>\n",
       "      <td>6</td>\n",
       "      <td>1</td>\n",
       "    </tr>\n",
       "    <tr>\n",
       "      <th>4</th>\n",
       "      <td>18</td>\n",
       "      <td>18</td>\n",
       "      <td>5</td>\n",
       "      <td>N</td>\n",
       "      <td>K</td>\n",
       "      <td>N</td>\n",
       "      <td>B</td>\n",
       "      <td>B</td>\n",
       "      <td>E</td>\n",
       "      <td>3</td>\n",
       "      <td>...</td>\n",
       "      <td>2</td>\n",
       "      <td>25</td>\n",
       "      <td>1</td>\n",
       "      <td>1</td>\n",
       "      <td>6</td>\n",
       "      <td>Y</td>\n",
       "      <td>N</td>\n",
       "      <td>C</td>\n",
       "      <td>2</td>\n",
       "      <td>6</td>\n",
       "    </tr>\n",
       "    <tr>\n",
       "      <th>5</th>\n",
       "      <td>13</td>\n",
       "      <td>19</td>\n",
       "      <td>5</td>\n",
       "      <td>N</td>\n",
       "      <td>H</td>\n",
       "      <td>N</td>\n",
       "      <td>B</td>\n",
       "      <td>B</td>\n",
       "      <td>E</td>\n",
       "      <td>7</td>\n",
       "      <td>...</td>\n",
       "      <td>1</td>\n",
       "      <td>22</td>\n",
       "      <td>1</td>\n",
       "      <td>2</td>\n",
       "      <td>7</td>\n",
       "      <td>N</td>\n",
       "      <td>N</td>\n",
       "      <td>E</td>\n",
       "      <td>1</td>\n",
       "      <td>1</td>\n",
       "    </tr>\n",
       "  </tbody>\n",
       "</table>\n",
       "<p>5 rows × 32 columns</p>\n",
       "</div>"
      ],
      "text/plain": [
       "    T1_V1  T1_V2  T1_V3 T1_V4 T1_V5 T1_V6 T1_V7 T1_V8 T1_V9  T1_V10  ...    \\\n",
       "Id                                                                   ...     \n",
       "1      15      3      2     N     B     N     B     B     D       7  ...     \n",
       "2      16     14      5     H     B     N     B     B     C      12  ...     \n",
       "3      10     10      5     N     K     N     B     B     E      12  ...     \n",
       "4      18     18      5     N     K     N     B     B     E       3  ...     \n",
       "5      13     19      5     N     H     N     B     B     E       7  ...     \n",
       "\n",
       "   T2_V6 T2_V7  T2_V8  T2_V9 T2_V10 T2_V11 T2_V12  T2_V13  T2_V14 T2_V15  \n",
       "Id                                                                        \n",
       "1      2    37      1     11      6      Y      N       E       2      2  \n",
       "2      2    22      1     18      5      Y      Y       E       2      1  \n",
       "3      6    37      2     14      6      Y      Y       E       6      1  \n",
       "4      2    25      1      1      6      Y      N       C       2      6  \n",
       "5      1    22      1      2      7      N      N       E       1      1  \n",
       "\n",
       "[5 rows x 32 columns]"
      ]
     },
     "execution_count": 26,
     "metadata": {},
     "output_type": "execute_result"
    }
   ],
   "source": [
    "X.head()"
   ]
  },
  {
   "cell_type": "code",
   "execution_count": 27,
   "metadata": {},
   "outputs": [
    {
     "data": {
      "text/plain": [
       "(50999, 32)"
      ]
     },
     "execution_count": 27,
     "metadata": {},
     "output_type": "execute_result"
    }
   ],
   "source": [
    "X.shape"
   ]
  },
  {
   "cell_type": "code",
   "execution_count": 28,
   "metadata": {},
   "outputs": [
    {
     "data": {
      "text/plain": [
       "(50999, 2)"
      ]
     },
     "execution_count": 28,
     "metadata": {},
     "output_type": "execute_result"
    }
   ],
   "source": [
    "Y.shape"
   ]
  },
  {
   "cell_type": "code",
   "execution_count": 29,
   "metadata": {
    "collapsed": true
   },
   "outputs": [],
   "source": [
    "del Y['Id']"
   ]
  },
  {
   "cell_type": "code",
   "execution_count": 30,
   "metadata": {},
   "outputs": [
    {
     "data": {
      "text/html": [
       "<div>\n",
       "<style scoped>\n",
       "    .dataframe tbody tr th:only-of-type {\n",
       "        vertical-align: middle;\n",
       "    }\n",
       "\n",
       "    .dataframe tbody tr th {\n",
       "        vertical-align: top;\n",
       "    }\n",
       "\n",
       "    .dataframe thead th {\n",
       "        text-align: right;\n",
       "    }\n",
       "</style>\n",
       "<table border=\"1\" class=\"dataframe\">\n",
       "  <thead>\n",
       "    <tr style=\"text-align: right;\">\n",
       "      <th></th>\n",
       "      <th>Hazard</th>\n",
       "    </tr>\n",
       "    <tr>\n",
       "      <th>Id</th>\n",
       "      <th></th>\n",
       "    </tr>\n",
       "  </thead>\n",
       "  <tbody>\n",
       "    <tr>\n",
       "      <th>1</th>\n",
       "      <td>1</td>\n",
       "    </tr>\n",
       "    <tr>\n",
       "      <th>2</th>\n",
       "      <td>4</td>\n",
       "    </tr>\n",
       "    <tr>\n",
       "      <th>3</th>\n",
       "      <td>1</td>\n",
       "    </tr>\n",
       "    <tr>\n",
       "      <th>4</th>\n",
       "      <td>1</td>\n",
       "    </tr>\n",
       "    <tr>\n",
       "      <th>5</th>\n",
       "      <td>1</td>\n",
       "    </tr>\n",
       "  </tbody>\n",
       "</table>\n",
       "</div>"
      ],
      "text/plain": [
       "    Hazard\n",
       "Id        \n",
       "1        1\n",
       "2        4\n",
       "3        1\n",
       "4        1\n",
       "5        1"
      ]
     },
     "execution_count": 30,
     "metadata": {},
     "output_type": "execute_result"
    }
   ],
   "source": [
    "Y.head()"
   ]
  },
  {
   "cell_type": "code",
   "execution_count": null,
   "metadata": {
    "collapsed": true
   },
   "outputs": [],
   "source": []
  }
 ],
 "metadata": {
  "kernelspec": {
   "display_name": "Python 3",
   "language": "python",
   "name": "python3"
  },
  "language_info": {
   "codemirror_mode": {
    "name": "ipython",
    "version": 3
   },
   "file_extension": ".py",
   "mimetype": "text/x-python",
   "name": "python",
   "nbconvert_exporter": "python",
   "pygments_lexer": "ipython3",
   "version": "3.6.3"
  }
 },
 "nbformat": 4,
 "nbformat_minor": 2
}
